{
  "cells": [
    {
      "cell_type": "markdown",
      "metadata": {
        "id": "view-in-github",
        "colab_type": "text"
      },
      "source": [
        "<a href=\"https://colab.research.google.com/github/CallmeAk/Digantra-Assignment/blob/main/DashBoard.ipynb\" target=\"_parent\"><img src=\"https://colab.research.google.com/assets/colab-badge.svg\" alt=\"Open In Colab\"/></a>"
      ]
    },
    {
      "cell_type": "code",
      "source": [
        "!pip install dash\n"
      ],
      "metadata": {
        "colab": {
          "base_uri": "https://localhost:8080/"
        },
        "id": "hnhqi7fqtjDA",
        "outputId": "72ee5e37-15fe-4f22-bd18-94ef3928e9b1"
      },
      "id": "hnhqi7fqtjDA",
      "execution_count": null,
      "outputs": [
        {
          "output_type": "stream",
          "name": "stdout",
          "text": [
            "Requirement already satisfied: dash in /usr/local/lib/python3.10/dist-packages (2.14.1)\n",
            "Requirement already satisfied: Flask<3.1,>=1.0.4 in /usr/local/lib/python3.10/dist-packages (from dash) (2.2.5)\n",
            "Requirement already satisfied: Werkzeug<3.1 in /usr/local/lib/python3.10/dist-packages (from dash) (3.0.1)\n",
            "Requirement already satisfied: plotly>=5.0.0 in /usr/local/lib/python3.10/dist-packages (from dash) (5.15.0)\n",
            "Requirement already satisfied: dash-html-components==2.0.0 in /usr/local/lib/python3.10/dist-packages (from dash) (2.0.0)\n",
            "Requirement already satisfied: dash-core-components==2.0.0 in /usr/local/lib/python3.10/dist-packages (from dash) (2.0.0)\n",
            "Requirement already satisfied: dash-table==5.0.0 in /usr/local/lib/python3.10/dist-packages (from dash) (5.0.0)\n",
            "Requirement already satisfied: typing-extensions>=4.1.1 in /usr/local/lib/python3.10/dist-packages (from dash) (4.5.0)\n",
            "Requirement already satisfied: requests in /usr/local/lib/python3.10/dist-packages (from dash) (2.31.0)\n",
            "Requirement already satisfied: retrying in /usr/local/lib/python3.10/dist-packages (from dash) (1.3.4)\n",
            "Requirement already satisfied: ansi2html in /usr/local/lib/python3.10/dist-packages (from dash) (1.8.0)\n",
            "Requirement already satisfied: nest-asyncio in /usr/local/lib/python3.10/dist-packages (from dash) (1.5.8)\n",
            "Requirement already satisfied: setuptools in /usr/local/lib/python3.10/dist-packages (from dash) (67.7.2)\n",
            "Requirement already satisfied: importlib-metadata in /usr/local/lib/python3.10/dist-packages (from dash) (6.8.0)\n",
            "Requirement already satisfied: Jinja2>=3.0 in /usr/local/lib/python3.10/dist-packages (from Flask<3.1,>=1.0.4->dash) (3.1.2)\n",
            "Requirement already satisfied: itsdangerous>=2.0 in /usr/local/lib/python3.10/dist-packages (from Flask<3.1,>=1.0.4->dash) (2.1.2)\n",
            "Requirement already satisfied: click>=8.0 in /usr/local/lib/python3.10/dist-packages (from Flask<3.1,>=1.0.4->dash) (8.1.7)\n",
            "Requirement already satisfied: tenacity>=6.2.0 in /usr/local/lib/python3.10/dist-packages (from plotly>=5.0.0->dash) (8.2.3)\n",
            "Requirement already satisfied: packaging in /usr/local/lib/python3.10/dist-packages (from plotly>=5.0.0->dash) (23.2)\n",
            "Requirement already satisfied: MarkupSafe>=2.1.1 in /usr/local/lib/python3.10/dist-packages (from Werkzeug<3.1->dash) (2.1.3)\n",
            "Requirement already satisfied: zipp>=0.5 in /usr/local/lib/python3.10/dist-packages (from importlib-metadata->dash) (3.17.0)\n",
            "Requirement already satisfied: charset-normalizer<4,>=2 in /usr/local/lib/python3.10/dist-packages (from requests->dash) (3.3.2)\n",
            "Requirement already satisfied: idna<4,>=2.5 in /usr/local/lib/python3.10/dist-packages (from requests->dash) (3.4)\n",
            "Requirement already satisfied: urllib3<3,>=1.21.1 in /usr/local/lib/python3.10/dist-packages (from requests->dash) (2.0.7)\n",
            "Requirement already satisfied: certifi>=2017.4.17 in /usr/local/lib/python3.10/dist-packages (from requests->dash) (2023.7.22)\n",
            "Requirement already satisfied: six>=1.7.0 in /usr/local/lib/python3.10/dist-packages (from retrying->dash) (1.16.0)\n"
          ]
        }
      ]
    },
    {
      "cell_type": "code",
      "execution_count": null,
      "id": "287557d8",
      "metadata": {
        "colab": {
          "base_uri": "https://localhost:8080/",
          "height": 672
        },
        "id": "287557d8",
        "outputId": "906bed34-57cb-40e8-d216-5c4035d209c7"
      },
      "outputs": [
        {
          "output_type": "display_data",
          "data": {
            "text/plain": [
              "<IPython.core.display.Javascript object>"
            ],
            "application/javascript": [
              "(async (port, path, width, height, cache, element) => {\n",
              "    if (!google.colab.kernel.accessAllowed && !cache) {\n",
              "      return;\n",
              "    }\n",
              "    element.appendChild(document.createTextNode(''));\n",
              "    const url = await google.colab.kernel.proxyPort(port, {cache});\n",
              "    const iframe = document.createElement('iframe');\n",
              "    iframe.src = new URL(path, url).toString();\n",
              "    iframe.height = height;\n",
              "    iframe.width = width;\n",
              "    iframe.style.border = 0;\n",
              "    iframe.allow = [\n",
              "        'accelerometer',\n",
              "        'autoplay',\n",
              "        'camera',\n",
              "        'clipboard-read',\n",
              "        'clipboard-write',\n",
              "        'gyroscope',\n",
              "        'magnetometer',\n",
              "        'microphone',\n",
              "        'serial',\n",
              "        'usb',\n",
              "        'xr-spatial-tracking',\n",
              "    ].join('; ');\n",
              "    element.appendChild(iframe);\n",
              "  })(8050, \"/\", \"100%\", 650, false, window.element)"
            ]
          },
          "metadata": {}
        }
      ],
      "source": [
        "import dash\n",
        "import dash_core_components as dcc\n",
        "import dash_html_components as html\n",
        "from dash.dependencies import Input, Output\n",
        "import pandas as pd\n",
        "import plotly.express as px\n",
        "\n",
        "# Load your data\n",
        "data = pd.read_csv('sort-minRange.csv')\n",
        "\n",
        "# Initialize the Dash app\n",
        "app = dash.Dash(__name__)\n",
        "\n",
        "# Define the layout of the dashboard\n",
        "app.layout = html.Div([\n",
        "    html.H1(\"Conjunction Analysis Dashboard\"),\n",
        "\n",
        "    html.Div([\n",
        "        html.Label(\"Select a Satellite:\"),\n",
        "        dcc.Dropdown(\n",
        "            id='satellite-dropdown',\n",
        "            options=[{'label': sat, 'value': sat} for sat in data['OBJECT_NAME_1'].unique()],\n",
        "            value=data['OBJECT_NAME_1'].unique()[0]\n",
        "        ),\n",
        "    ], style={'width': '30%', 'display': 'inline-block'}),\n",
        "\n",
        "    html.Div([\n",
        "        dcc.Graph(id='risk-pie-chart')\n",
        "    ], style={'width': '50%', 'display': 'inline-block'}),\n",
        "\n",
        "    html.Div([\n",
        "        dcc.Graph(id='conjunction-scatter-plot')\n",
        "    ], style={'width': '50%', 'display': 'inline-block'}),\n",
        "])\n",
        "\n",
        "# Define callback to update graphs based on user selection\n",
        "@app.callback(\n",
        "    [Output('risk-pie-chart', 'figure'),\n",
        "     Output('conjunction-scatter-plot', 'figure')],\n",
        "    [Input('satellite-dropdown', 'value')]\n",
        ")\n",
        "def update_graphs(selected_satellite):\n",
        "    # Filter data based on selected satellite\n",
        "    selected_data = data[data['OBJECT_NAME_1'] == selected_satellite]\n",
        "\n",
        "    # Risk Assessment Pie Chart\n",
        "    risk_counts = [len(selected_data[selected_data['MAX_PROB'] < 0.2]),  # Define risk level thresholds as needed\n",
        "                   len(selected_data[(selected_data['MAX_PROB'] >= 0.2) & (selected_data['MAX_PROB'] < 0.5)]),\n",
        "                   len(selected_data[selected_data['MAX_PROB'] >= 0.5])]\n",
        "    pie_chart_fig = px.pie(values=risk_counts, names=['Low Risk', 'Moderate Risk', 'High Risk'], title='Risk Assessment')\n",
        "\n",
        "    # Conjunction Scatter Plot\n",
        "    scatter_plot_fig = px.scatter(selected_data, x='TCA', y='MAX_PROB', color='MAX_PROB',\n",
        "                                  labels={'TCA': 'Time of Closest Approach', 'MAX_PROB': 'Max Probability'},\n",
        "                                  title='Conjunction Details')\n",
        "\n",
        "    return pie_chart_fig, scatter_plot_fig\n",
        "FUC\n",
        "\n",
        "\n",
        "\n"
      ]
    },
    {
      "cell_type": "code",
      "source": [],
      "metadata": {
        "id": "VPaj7jysth2d"
      },
      "id": "VPaj7jysth2d",
      "execution_count": null,
      "outputs": []
    },
    {
      "cell_type": "markdown",
      "id": "94d5f18e",
      "metadata": {
        "id": "94d5f18e"
      },
      "source": [
        "#"
      ]
    },
    {
      "cell_type": "markdown",
      "id": "2c55cbfa",
      "metadata": {
        "id": "2c55cbfa"
      },
      "source": [
        "#"
      ]
    },
    {
      "cell_type": "code",
      "execution_count": null,
      "id": "20d60950",
      "metadata": {
        "colab": {
          "base_uri": "https://localhost:8080/",
          "height": 672
        },
        "id": "20d60950",
        "outputId": "ba2da3e9-7eb8-48ef-f0ed-78796a927293"
      },
      "outputs": [
        {
          "output_type": "display_data",
          "data": {
            "text/plain": [
              "<IPython.core.display.Javascript object>"
            ],
            "application/javascript": [
              "(async (port, path, width, height, cache, element) => {\n",
              "    if (!google.colab.kernel.accessAllowed && !cache) {\n",
              "      return;\n",
              "    }\n",
              "    element.appendChild(document.createTextNode(''));\n",
              "    const url = await google.colab.kernel.proxyPort(port, {cache});\n",
              "    const iframe = document.createElement('iframe');\n",
              "    iframe.src = new URL(path, url).toString();\n",
              "    iframe.height = height;\n",
              "    iframe.width = width;\n",
              "    iframe.style.border = 0;\n",
              "    iframe.allow = [\n",
              "        'accelerometer',\n",
              "        'autoplay',\n",
              "        'camera',\n",
              "        'clipboard-read',\n",
              "        'clipboard-write',\n",
              "        'gyroscope',\n",
              "        'magnetometer',\n",
              "        'microphone',\n",
              "        'serial',\n",
              "        'usb',\n",
              "        'xr-spatial-tracking',\n",
              "    ].join('; ');\n",
              "    element.appendChild(iframe);\n",
              "  })(8050, \"/\", \"100%\", 650, false, window.element)"
            ]
          },
          "metadata": {}
        }
      ],
      "source": [
        "import dash\n",
        "import dash_core_components as dcc\n",
        "import dash_html_components as html\n",
        "from dash.dependencies import Input, Output\n",
        "import plotly.express as px\n",
        "import random\n",
        "\n",
        "# Generate random data for demonstration purposes\n",
        "random.seed(42)\n",
        "satellites = ['Satellite A', 'Satellite B', 'Satellite C']\n",
        "risk_levels = ['Low Risk', 'Moderate Risk', 'High Risk']\n",
        "data = []\n",
        "\n",
        "for satellite in satellites:\n",
        "    for _ in range(30):\n",
        "        data.append({\n",
        "            'Satellite': satellite,\n",
        "            'TCA': random.randint(1, 30),\n",
        "            'Max Probability': random.uniform(0.1, 0.9),\n",
        "            'Risk Level': random.choice(risk_levels)\n",
        "        })\n",
        "\n",
        "data = pd.DataFrame(data)\n",
        "\n",
        "# Initialize the Dash app\n",
        "app = dash.Dash(__name__)\n",
        "\n",
        "# Define the layout of the dashboard\n",
        "app.layout = html.Div([\n",
        "    html.H1(\"Conjunction Analysis Dashboard\"),\n",
        "\n",
        "    html.Div([\n",
        "        html.Label(\"Select a Satellite:\"),\n",
        "        dcc.Dropdown(\n",
        "            id='satellite-dropdown',\n",
        "            options=[{'label': sat, 'value': sat} for sat in satellites],\n",
        "            value=satellites[0]\n",
        "        ),\n",
        "    ], style={'width': '30%', 'display': 'inline-block'}),\n",
        "\n",
        "    html.Div([\n",
        "        dcc.Graph(id='risk-pie-chart')\n",
        "    ], style={'width': '50%', 'display': 'inline-block'}),\n",
        "\n",
        "    html.Div([\n",
        "        dcc.Graph(id='conjunction-scatter-plot')\n",
        "    ], style={'width': '50%', 'display': 'inline-block'}),\n",
        "])\n",
        "\n",
        "# Define callback to update graphs based on user selection\n",
        "@app.callback(\n",
        "    [Output('risk-pie-chart', 'figure'),\n",
        "     Output('conjunction-scatter-plot', 'figure')],\n",
        "    [Input('satellite-dropdown', 'value')]\n",
        ")\n",
        "def update_graphs(selected_satellite):\n",
        "    # Filter data based on selected satellite\n",
        "    selected_data = data[data['Satellite'] == selected_satellite]\n",
        "\n",
        "    # Risk Assessment Pie Chart\n",
        "    risk_counts = [len(selected_data[selected_data['Risk Level'] == level]) for level in risk_levels]\n",
        "    pie_chart_fig = px.pie(values=risk_counts, names=risk_levels, title='Risk Assessment')\n",
        "\n",
        "    # Conjunction Scatter Plot\n",
        "    scatter_plot_fig = px.scatter(selected_data, x='TCA', y='Max Probability', color='Risk Level',\n",
        "                                  labels={'TCA': 'Time of Closest Approach', 'Max Probability': 'Max Probability'},\n",
        "                                  title='Conjunction Details')\n",
        "\n",
        "    return pie_chart_fig, scatter_plot_fig\n",
        "\n",
        "if __name__ == '__main__':\n",
        "    app.run_server(debug=True)\n"
      ]
    },
    {
      "cell_type": "code",
      "execution_count": null,
      "id": "0623b143",
      "metadata": {
        "id": "0623b143"
      },
      "outputs": [],
      "source": []
    }
  ],
  "metadata": {
    "kernelspec": {
      "display_name": "Python 3 (ipykernel)",
      "language": "python",
      "name": "python3"
    },
    "language_info": {
      "codemirror_mode": {
        "name": "ipython",
        "version": 3
      },
      "file_extension": ".py",
      "mimetype": "text/x-python",
      "name": "python",
      "nbconvert_exporter": "python",
      "pygments_lexer": "ipython3",
      "version": "3.10.9"
    },
    "colab": {
      "provenance": [],
      "include_colab_link": true
    }
  },
  "nbformat": 4,
  "nbformat_minor": 5
}